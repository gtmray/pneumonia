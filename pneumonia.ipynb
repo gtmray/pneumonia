{
  "nbformat": 4,
  "nbformat_minor": 0,
  "metadata": {
    "colab": {
      "name": "Untitled42.ipynb",
      "provenance": [],
      "authorship_tag": "ABX9TyNtryuCNAvPpSvabWnjk81X",
      "include_colab_link": true
    },
    "kernelspec": {
      "name": "python3",
      "display_name": "Python 3"
    },
    "accelerator": "GPU"
  },
  "cells": [
    {
      "cell_type": "markdown",
      "metadata": {
        "id": "view-in-github",
        "colab_type": "text"
      },
      "source": [
        "<a href=\"https://colab.research.google.com/github/gtmray/pneumonia/blob/master/pneumonia.ipynb\" target=\"_parent\"><img src=\"https://colab.research.google.com/assets/colab-badge.svg\" alt=\"Open In Colab\"/></a>"
      ]
    },
    {
      "cell_type": "code",
      "metadata": {
        "id": "h1SXIBkwvzmr",
        "colab_type": "code",
        "colab": {
          "base_uri": "https://localhost:8080/",
          "height": 93
        },
        "outputId": "645449ea-1043-4ec4-9e25-ce1bb5a3a3b2"
      },
      "source": [
        "import numpy as np\n",
        "import pandas as pd\n",
        "import matplotlib.pyplot as plt\n",
        "import seaborn as sns\n",
        "from sklearn.metrics import confusion_matrix\n",
        "from sklearn.preprocessing import StandardScaler\n",
        "\n",
        "import tensorflow as tf\n",
        "from tensorflow import keras\n",
        "from tensorflow.keras.models import Sequential\n",
        "from tensorflow.keras.layers import Activation, Dense, Flatten, BatchNormalization, Conv2D, MaxPool2D\n",
        "from tensorflow.keras.optimizers import Adam, SGD\n",
        "from tensorflow.keras.metrics import categorical_crossentropy\n",
        "from tensorflow.keras.preprocessing.image import ImageDataGenerator\n",
        "\n",
        "import os\n",
        "import shutil\n",
        "import random\n",
        "\n",
        "physical_devices = tf.config.experimental.list_physical_devices('GPU')\n",
        "print(\"Num of GPUs: \", len(physical_devices))\n",
        "if physical_devices:\n",
        "  tf.config.experimental.set_memory_growth(physical_devices[0], True)\n",
        "\n",
        "pd.set_option('display.max_columns', 10)\n",
        "sns.set()\n",
        "plt.style.use('ggplot')"
      ],
      "execution_count": 1,
      "outputs": [
        {
          "output_type": "stream",
          "text": [
            "/usr/local/lib/python3.6/dist-packages/statsmodels/tools/_testing.py:19: FutureWarning: pandas.util.testing is deprecated. Use the functions in the public API at pandas.testing instead.\n",
            "  import pandas.util.testing as tm\n"
          ],
          "name": "stderr"
        },
        {
          "output_type": "stream",
          "text": [
            "Num of GPUs:  1\n"
          ],
          "name": "stdout"
        }
      ]
    },
    {
      "cell_type": "code",
      "metadata": {
        "id": "xKA--1Ghzpng",
        "colab_type": "code",
        "colab": {}
      },
      "source": [
        "if os.path.isdir('chest_xray') is False:\n",
        "    ! pip install -q kaggle\n",
        "    from google.colab import files\n",
        "    files.upload()\n",
        "    ! mkdir ~/.kaggle \n",
        "    ! cp kaggle.json ~/.kaggle/\n",
        "    ! chmod 600 ~/.kaggle/kaggle.json\n",
        "    ! kaggle datasets list\n",
        "    ! kaggle datasets download -d paultimothymooney/chest-xray-pneumonia\n",
        "    !unzip chest-xray-pneumonia.zip\n",
        "    shutil.rmtree('/content/chest_xray/chest_xray')\n",
        "    shutil.rmtree('/content/chest_xray/__MACOSX')"
      ],
      "execution_count": null,
      "outputs": []
    },
    {
      "cell_type": "code",
      "metadata": {
        "id": "gfcnLOmA0mmu",
        "colab_type": "code",
        "colab": {
          "base_uri": "https://localhost:8080/",
          "height": 73
        },
        "outputId": "20774810-bcb3-4480-ac64-326cb17de93c"
      },
      "source": [
        "train_path = '/content/chest_xray/train'\n",
        "valid_path = '/content/chest_xray/val'\n",
        "test_path = '/content/chest_xray/test'\n",
        "\n",
        "train_batches = ImageDataGenerator(preprocessing_function=keras.applications.vgg16.preprocess_input).flow_from_directory(directory=train_path, target_size=(224, 224), classes=['NORMAL', 'PNEUMONIA'], batch_size=10)\n",
        "valid_batches = ImageDataGenerator(preprocessing_function=keras.applications.vgg16.preprocess_input).flow_from_directory(directory=valid_path, target_size=(224, 224), classes=['NORMAL', 'PNEUMONIA'], batch_size=10)\n",
        "test_batches = ImageDataGenerator(preprocessing_function=keras.applications.vgg16.preprocess_input).flow_from_directory(directory=test_path, target_size=(224, 224), classes=['NORMAL', 'PNEUMONIA'], batch_size=10, shuffle=False)"
      ],
      "execution_count": 6,
      "outputs": [
        {
          "output_type": "stream",
          "text": [
            "Found 5216 images belonging to 2 classes.\n",
            "Found 16 images belonging to 2 classes.\n",
            "Found 624 images belonging to 2 classes.\n"
          ],
          "name": "stdout"
        }
      ]
    },
    {
      "cell_type": "code",
      "metadata": {
        "id": "A1KFXcML5VlB",
        "colab_type": "code",
        "colab": {}
      },
      "source": [
        "def plot_confusion_matrix(batch_to_pred):\n",
        "  preds = model.predict(x=batch_to_pred)\n",
        "  y_preds = np.argmax(preds, axis=-1)\n",
        "  y_true = batch_to_pred.classes\n",
        "  confuse = confusion_matrix(y_true, y_preds)    \n",
        "  sns.heatmap(pd.DataFrame(confuse), annot=True, cmap='viridis', fmt='g')\n",
        "  plt.tight_layout()\n",
        "  plt.xlabel('Predicted label')\n",
        "  plt.ylabel('Actual label')\n",
        "  plt.title('CONFUSION MATRIX')\n",
        "  plt.show()\n"
      ],
      "execution_count": 7,
      "outputs": []
    },
    {
      "cell_type": "code",
      "metadata": {
        "id": "JaeCzaKO3A1R",
        "colab_type": "code",
        "colab": {
          "base_uri": "https://localhost:8080/",
          "height": 706
        },
        "outputId": "26a4b0d2-8cad-4fbf-b243-c8602635c6fc"
      },
      "source": [
        "vgg16_model = tf.keras.applications.vgg16.VGG16()\n",
        "#vgg16_model.summary()\n",
        "\n",
        "model = Sequential()\n",
        "for layer in vgg16_model.layers[:-1]: #Except last layer\n",
        "  model.add(layer)\n",
        "\n",
        "for layer in model.layers: #Avoiding training layers\n",
        "  layer.trainable=False\n",
        "\n",
        "model.add(Dense(units=2, activation='softmax')) #Adding custom last layer\n",
        "#model.summary()\n",
        "\n",
        "model.compile(optimizer=Adam(learning_rate=0.001), loss='categorical_crossentropy', metrics=['accuracy'])\n",
        "model.fit(x=train_batches, validation_data=valid_batches, epochs=10, verbose=2)\n",
        "\n",
        "plot_confusion_matrix(test_batches)\n"
      ],
      "execution_count": 8,
      "outputs": [
        {
          "output_type": "stream",
          "text": [
            "Epoch 1/10\n",
            "522/522 - 85s - loss: 0.2356 - accuracy: 0.9041 - val_loss: 0.5546 - val_accuracy: 0.6875\n",
            "Epoch 2/10\n",
            "522/522 - 84s - loss: 0.1290 - accuracy: 0.9505 - val_loss: 0.3860 - val_accuracy: 0.8125\n",
            "Epoch 3/10\n",
            "522/522 - 83s - loss: 0.1056 - accuracy: 0.9599 - val_loss: 0.2929 - val_accuracy: 0.8750\n",
            "Epoch 4/10\n",
            "522/522 - 82s - loss: 0.0905 - accuracy: 0.9641 - val_loss: 0.2752 - val_accuracy: 0.8750\n",
            "Epoch 5/10\n",
            "522/522 - 82s - loss: 0.0793 - accuracy: 0.9695 - val_loss: 0.2475 - val_accuracy: 0.8125\n",
            "Epoch 6/10\n",
            "522/522 - 82s - loss: 0.0734 - accuracy: 0.9722 - val_loss: 0.2608 - val_accuracy: 0.8125\n",
            "Epoch 7/10\n",
            "522/522 - 81s - loss: 0.0666 - accuracy: 0.9743 - val_loss: 0.2129 - val_accuracy: 0.8125\n",
            "Epoch 8/10\n",
            "522/522 - 81s - loss: 0.0611 - accuracy: 0.9789 - val_loss: 0.2048 - val_accuracy: 0.8125\n",
            "Epoch 9/10\n",
            "522/522 - 81s - loss: 0.0575 - accuracy: 0.9791 - val_loss: 0.3863 - val_accuracy: 0.8125\n",
            "Epoch 10/10\n",
            "522/522 - 80s - loss: 0.0534 - accuracy: 0.9826 - val_loss: 0.1939 - val_accuracy: 0.8125\n"
          ],
          "name": "stdout"
        },
        {
          "output_type": "display_data",
          "data": {
            "image/png": "[encoded data removed]",
            "text/plain": [
              "<Figure size 432x288 with 2 Axes>"
            ]
          },
          "metadata": {
            "tags": [],
            "needs_background": "light"
          }
        }
      ]
    },
    {
      "cell_type": "code",
      "metadata": {
        "id": "xm_mY6kN3Zxi",
        "colab_type": "code",
        "colab": {}
      },
      "source": [
        ""
      ],
      "execution_count": 5,
      "outputs": []
    }
  ]
}